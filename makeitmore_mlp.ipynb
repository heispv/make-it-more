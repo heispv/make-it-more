{
  "nbformat": 4,
  "nbformat_minor": 0,
  "metadata": {
    "colab": {
      "provenance": [],
      "authorship_tag": "ABX9TyOQ96XbnisSPZ1hx/W845Oq",
      "include_colab_link": true
    },
    "kernelspec": {
      "name": "python3",
      "display_name": "Python 3"
    },
    "language_info": {
      "name": "python"
    }
  },
  "cells": [
    {
      "cell_type": "markdown",
      "metadata": {
        "id": "view-in-github",
        "colab_type": "text"
      },
      "source": [
        "<a href=\"https://colab.research.google.com/github/heispv/make-it-more/blob/master/makeitmore_mlp.ipynb\" target=\"_parent\"><img src=\"https://colab.research.google.com/assets/colab-badge.svg\" alt=\"Open In Colab\"/></a>"
      ]
    },
    {
      "cell_type": "code",
      "execution_count": null,
      "metadata": {
        "id": "IeP4fhc2DEXc"
      },
      "outputs": [],
      "source": [
        "import torch\n",
        "import torch.nn.functional as F\n",
        "import matplotlib.pyplot as plt"
      ]
    },
    {
      "cell_type": "code",
      "source": [
        "words =  open('names.txt', 'r').read().splitlines()"
      ],
      "metadata": {
        "id": "0WdN0x2eDSpo"
      },
      "execution_count": null,
      "outputs": []
    },
    {
      "cell_type": "code",
      "source": [
        "len(words), words[:5]"
      ],
      "metadata": {
        "colab": {
          "base_uri": "https://localhost:8080/"
        },
        "id": "GyCMiVKCDo3E",
        "outputId": "b5a7ae43-d43a-4f03-d996-b320d6d3ff6e"
      },
      "execution_count": null,
      "outputs": [
        {
          "output_type": "execute_result",
          "data": {
            "text/plain": [
              "(32033, ['emma', 'olivia', 'ava', 'isabella', 'sophia'])"
            ]
          },
          "metadata": {},
          "execution_count": 13
        }
      ]
    },
    {
      "cell_type": "code",
      "source": [
        "chars = sorted(list(set(''.join(words))))"
      ],
      "metadata": {
        "id": "FikgIQFXDqX0"
      },
      "execution_count": null,
      "outputs": []
    },
    {
      "cell_type": "code",
      "source": [
        "stoi = {k: v+1 for v, k in enumerate(chars)}"
      ],
      "metadata": {
        "id": "G_1pmc2sD_-j"
      },
      "execution_count": null,
      "outputs": []
    },
    {
      "cell_type": "code",
      "source": [
        "stoi['.'] = 0"
      ],
      "metadata": {
        "id": "ogotA_afEAkj"
      },
      "execution_count": null,
      "outputs": []
    },
    {
      "cell_type": "code",
      "source": [
        "itos = {v: k for k, v in stoi.items()}"
      ],
      "metadata": {
        "id": "1M5fSMxlEOM0"
      },
      "execution_count": null,
      "outputs": []
    },
    {
      "cell_type": "code",
      "source": [
        "block_size = 3\n",
        "\n",
        "x, y = [], []\n",
        "\n",
        "for word in words[:2]:\n",
        "    context = [0] * block_size\n",
        "    print(word)\n",
        "    for ch in word + '.':\n",
        "        ix = stoi[ch]\n",
        "        x.append(context)\n",
        "        y.append(ix)\n",
        "        print(''.join(itos[i] for i in context) + '-->' + itos[ix])\n",
        "        context = context[1:] + [ix]\n",
        "\n",
        "x = torch.tensor(x)\n",
        "y = torch.tensor(y)"
      ],
      "metadata": {
        "colab": {
          "base_uri": "https://localhost:8080/"
        },
        "id": "9tgFR7hXEtQO",
        "outputId": "efacbf3f-0c24-46b3-aad2-0ccb7691d0d9"
      },
      "execution_count": null,
      "outputs": [
        {
          "output_type": "stream",
          "name": "stdout",
          "text": [
            "emma\n",
            "...-->e\n",
            "..e-->m\n",
            ".em-->m\n",
            "emm-->a\n",
            "mma-->.\n",
            "olivia\n",
            "...-->o\n",
            "..o-->l\n",
            ".ol-->i\n",
            "oli-->v\n",
            "liv-->i\n",
            "ivi-->a\n",
            "via-->.\n"
          ]
        }
      ]
    },
    {
      "cell_type": "code",
      "source": [],
      "metadata": {
        "id": "QiUvfoV8HTIa"
      },
      "execution_count": null,
      "outputs": []
    }
  ]
}